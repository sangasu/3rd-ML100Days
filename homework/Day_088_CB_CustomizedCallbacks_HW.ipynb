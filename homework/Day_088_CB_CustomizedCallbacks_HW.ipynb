{
 "cells": [
  {
   "cell_type": "markdown",
   "metadata": {},
   "source": [
    "## Work\n",
    "1. 請嘗試寫一個 callback 用來記錄各類別在訓練過程中，對驗證集的 True Positive 與 True Negative"
   ]
  },
  {
   "cell_type": "code",
   "execution_count": 1,
   "metadata": {},
   "outputs": [
    {
     "name": "stderr",
     "output_type": "stream",
     "text": [
      "Using TensorFlow backend.\n"
     ]
    }
   ],
   "source": [
    "import os\n",
    "import keras\n",
    "import pandas as pd\n",
    "# Disable GPU\n",
    "#os.environ[\"CUDA_VISIBLE_DEVICES\"] = \"\""
   ]
  },
  {
   "cell_type": "code",
   "execution_count": 2,
   "metadata": {},
   "outputs": [],
   "source": [
    "(x_train, y_train), (x_test, y_test) = keras.datasets.cifar10.load_data()"
   ]
  },
  {
   "cell_type": "code",
   "execution_count": 3,
   "metadata": {},
   "outputs": [],
   "source": [
    "## 資料前處理\n",
    "def preproc_x(x, flatten=True):\n",
    "    x = x / 255.\n",
    "    if flatten:\n",
    "        x = x.reshape((len(x), -1))\n",
    "    return x\n",
    "\n",
    "def preproc_y(y, num_classes=10):\n",
    "    if y.shape[-1] == 1:\n",
    "        y = keras.utils.to_categorical(y, num_classes)\n",
    "    return y    "
   ]
  },
  {
   "cell_type": "code",
   "execution_count": 4,
   "metadata": {},
   "outputs": [],
   "source": [
    "# Preproc the inputs\n",
    "x_train = preproc_x(x_train)\n",
    "x_test = preproc_x(x_test)\n",
    "\n",
    "# Preprc the outputs\n",
    "y_train = preproc_y(y_train)\n",
    "y_test = preproc_y(y_test)"
   ]
  },
  {
   "cell_type": "code",
   "execution_count": 5,
   "metadata": {},
   "outputs": [],
   "source": [
    "from keras.layers import BatchNormalization\n",
    "def build_mlp(input_shape, output_units=10, num_neurons=[256, 256, 256]):\n",
    "    input_layer = keras.layers.Input(input_shape)\n",
    "    \n",
    "    for i, n_units in enumerate(num_neurons):\n",
    "        if i == 0:\n",
    "            x = keras.layers.Dense(units=n_units, \n",
    "                                   activation=\"relu\", \n",
    "                                   name=\"hidden_layer\"+str(i+1))(input_layer)\n",
    "            x = BatchNormalization()(x)\n",
    "        else:\n",
    "            x = keras.layers.Dense(units=n_units, \n",
    "                                   activation=\"relu\", \n",
    "                                   name=\"hidden_layer\"+str(i+1))(x)\n",
    "            x = BatchNormalization()(x)\n",
    "    \n",
    "    out = keras.layers.Dense(units=output_units, activation=\"softmax\", name=\"output\")(x)\n",
    "    \n",
    "    model = keras.models.Model(inputs=[input_layer], outputs=[out])\n",
    "    return model"
   ]
  },
  {
   "cell_type": "code",
   "execution_count": 6,
   "metadata": {},
   "outputs": [],
   "source": [
    "## 超參數設定\n",
    "LEARNING_RATE = 1e-3\n",
    "EPOCHS = 25\n",
    "BATCH_SIZE = 1024\n",
    "MOMENTUM = 0.95"
   ]
  },
  {
   "cell_type": "code",
   "execution_count": 7,
   "metadata": {},
   "outputs": [],
   "source": [
    "# 載入 Callbacks\n",
    "from keras.callbacks import Callback\n",
    "\n",
    "# Record_fp_tp\n",
    "class Record_tp_tn(Callback):\n",
    "    \"\"\"Code Here\n",
    "    撰寫一個紀錄 ture positive 與 true negative 數量的 callbacks    \n",
    "    \"\"\"\n",
    "    def on_train_begin(self, logs = {}):\n",
    "        logs = logs or {}\n",
    "        record_items = [\"val_auc\", \"val_f1sc\", \"val_fp\", \"val_fn\", \"val_tp\", \"val_tn\"]\n",
    "        for i in record_items:\n",
    "            if i not in self.params['metrics']:\n",
    "                self.params['metrics'].append(i)\n",
    "    \n",
    "    def on_epoch_end(self, epoch, logs = {}, thres=0.5):\n",
    "        logs = logs or {}\n",
    "        y_true = self.validation_data[1].argmax(axis = 1) #真實結果(從hot code轉回實際值)\n",
    "        y_pred = self.model.predict(self.validation_data[0])\n",
    "        y_pred = (y_pred >= thres) * 1\n",
    "        data=pd.DataFrame(y_true.reshape(-1,1),columns=['T'])\n",
    "        data['P']=y_pred.argmax(axis = 1).reshape(-1,1)\n",
    "        data2=data[data['T']==data['P']]\n",
    "        tn=0;\n",
    "        tp=0;\n",
    "        total=data2.size\n",
    "        for i in range(10):\n",
    "            c1=data2[data2['T']==i].size\n",
    "            c2=total-c1\n",
    "            tn+=c1\n",
    "            tp+=c2\n",
    "        logs[\"val_tn\"] = tn\n",
    "        logs[\"val_tp\"] = tp\n",
    "rec_tptn = Record_tp_tn()"
   ]
  },
  {
   "cell_type": "code",
   "execution_count": 8,
   "metadata": {
    "scrolled": true
   },
   "outputs": [
    {
     "name": "stdout",
     "output_type": "stream",
     "text": [
      "Model: \"model_1\"\n",
      "_________________________________________________________________\n",
      "Layer (type)                 Output Shape              Param #   \n",
      "=================================================================\n",
      "input_1 (InputLayer)         (None, 3072)              0         \n",
      "_________________________________________________________________\n",
      "hidden_layer1 (Dense)        (None, 256)               786688    \n",
      "_________________________________________________________________\n",
      "batch_normalization_1 (Batch (None, 256)               1024      \n",
      "_________________________________________________________________\n",
      "hidden_layer2 (Dense)        (None, 256)               65792     \n",
      "_________________________________________________________________\n",
      "batch_normalization_2 (Batch (None, 256)               1024      \n",
      "_________________________________________________________________\n",
      "hidden_layer3 (Dense)        (None, 256)               65792     \n",
      "_________________________________________________________________\n",
      "batch_normalization_3 (Batch (None, 256)               1024      \n",
      "_________________________________________________________________\n",
      "output (Dense)               (None, 10)                2570      \n",
      "=================================================================\n",
      "Total params: 923,914\n",
      "Trainable params: 922,378\n",
      "Non-trainable params: 1,536\n",
      "_________________________________________________________________\n",
      "Train on 50000 samples, validate on 10000 samples\n",
      "Epoch 1/25\n",
      "50000/50000 [==============================] - 3s 58us/step - loss: 2.2252 - accuracy: 0.2672 - val_loss: 2.1355 - val_accuracy: 0.2270\n",
      "Epoch 2/25\n",
      "50000/50000 [==============================] - 2s 37us/step - loss: 1.7678 - accuracy: 0.3839 - val_loss: 1.9981 - val_accuracy: 0.3105\n",
      "Epoch 3/25\n",
      "50000/50000 [==============================] - 2s 37us/step - loss: 1.6418 - accuracy: 0.4259 - val_loss: 1.8440 - val_accuracy: 0.3690\n",
      "Epoch 4/25\n",
      "50000/50000 [==============================] - 2s 36us/step - loss: 1.5663 - accuracy: 0.4523 - val_loss: 1.7343 - val_accuracy: 0.3998\n",
      "Epoch 5/25\n",
      "50000/50000 [==============================] - 2s 37us/step - loss: 1.5138 - accuracy: 0.4706 - val_loss: 1.6434 - val_accuracy: 0.4261\n",
      "Epoch 6/25\n",
      "50000/50000 [==============================] - 2s 36us/step - loss: 1.4680 - accuracy: 0.4879 - val_loss: 1.5804 - val_accuracy: 0.4476\n",
      "Epoch 7/25\n",
      "50000/50000 [==============================] - 2s 36us/step - loss: 1.4314 - accuracy: 0.5009 - val_loss: 1.5383 - val_accuracy: 0.4605\n",
      "Epoch 8/25\n",
      "50000/50000 [==============================] - 2s 36us/step - loss: 1.4000 - accuracy: 0.5117 - val_loss: 1.5233 - val_accuracy: 0.4624\n",
      "Epoch 9/25\n",
      "50000/50000 [==============================] - 2s 37us/step - loss: 1.3679 - accuracy: 0.5222 - val_loss: 1.5072 - val_accuracy: 0.4743\n",
      "Epoch 10/25\n",
      "50000/50000 [==============================] - 2s 37us/step - loss: 1.3426 - accuracy: 0.5337 - val_loss: 1.4989 - val_accuracy: 0.4766\n",
      "Epoch 11/25\n",
      "50000/50000 [==============================] - 2s 38us/step - loss: 1.3155 - accuracy: 0.5411 - val_loss: 1.4896 - val_accuracy: 0.4739\n",
      "Epoch 12/25\n",
      "50000/50000 [==============================] - 2s 36us/step - loss: 1.2918 - accuracy: 0.5512 - val_loss: 1.4826 - val_accuracy: 0.4773\n",
      "Epoch 13/25\n",
      "50000/50000 [==============================] - 2s 36us/step - loss: 1.2694 - accuracy: 0.5583 - val_loss: 1.4808 - val_accuracy: 0.4845\n",
      "Epoch 14/25\n",
      "50000/50000 [==============================] - 2s 36us/step - loss: 1.2470 - accuracy: 0.5679 - val_loss: 1.4692 - val_accuracy: 0.4845\n",
      "Epoch 15/25\n",
      "50000/50000 [==============================] - 2s 37us/step - loss: 1.2265 - accuracy: 0.5757 - val_loss: 1.4558 - val_accuracy: 0.4931\n",
      "Epoch 16/25\n",
      "50000/50000 [==============================] - 2s 37us/step - loss: 1.2061 - accuracy: 0.5825 - val_loss: 1.4673 - val_accuracy: 0.4836\n",
      "Epoch 17/25\n",
      "50000/50000 [==============================] - 2s 36us/step - loss: 1.1875 - accuracy: 0.5907 - val_loss: 1.4606 - val_accuracy: 0.4916\n",
      "Epoch 18/25\n",
      "50000/50000 [==============================] - 2s 36us/step - loss: 1.1679 - accuracy: 0.5970 - val_loss: 1.4518 - val_accuracy: 0.4922\n",
      "Epoch 19/25\n",
      "50000/50000 [==============================] - 2s 37us/step - loss: 1.1508 - accuracy: 0.6026 - val_loss: 1.4622 - val_accuracy: 0.4851\n",
      "Epoch 20/25\n",
      "50000/50000 [==============================] - 2s 36us/step - loss: 1.1316 - accuracy: 0.6098 - val_loss: 1.4685 - val_accuracy: 0.4879\n",
      "Epoch 21/25\n",
      "50000/50000 [==============================] - 2s 36us/step - loss: 1.1165 - accuracy: 0.6161 - val_loss: 1.4428 - val_accuracy: 0.4991\n",
      "Epoch 22/25\n",
      "50000/50000 [==============================] - 2s 36us/step - loss: 1.0991 - accuracy: 0.6244 - val_loss: 1.4521 - val_accuracy: 0.4982\n",
      "Epoch 23/25\n",
      "50000/50000 [==============================] - 2s 36us/step - loss: 1.0810 - accuracy: 0.6313 - val_loss: 1.4444 - val_accuracy: 0.4987\n",
      "Epoch 24/25\n",
      "50000/50000 [==============================] - 2s 36us/step - loss: 1.0638 - accuracy: 0.6367 - val_loss: 1.4556 - val_accuracy: 0.5033\n",
      "Epoch 25/25\n",
      "50000/50000 [==============================] - 2s 37us/step - loss: 1.0486 - accuracy: 0.6427 - val_loss: 1.4496 - val_accuracy: 0.5010\n"
     ]
    }
   ],
   "source": [
    "model = build_mlp(input_shape=x_train.shape[1:])\n",
    "model.summary()\n",
    "optimizer = keras.optimizers.SGD(lr=LEARNING_RATE, nesterov=True, momentum=MOMENTUM)\n",
    "model.compile(loss=\"categorical_crossentropy\", metrics=[\"accuracy\"], optimizer=optimizer)\n",
    "\n",
    "\"\"\"Code Here\n",
    "將 callbacks 放入模型訓練流程中\n",
    "\"\"\"\n",
    "model.fit(x_train, y_train, \n",
    "          epochs=EPOCHS, \n",
    "          batch_size=BATCH_SIZE, \n",
    "          validation_data=(x_test, y_test), \n",
    "          shuffle=True,\n",
    "          callbacks=[rec_tptn])\n",
    "\n",
    "# Collect results\n",
    "train_loss = model.history.history[\"loss\"]\n",
    "valid_loss = model.history.history[\"val_loss\"]\n",
    "train_acc = model.history.history[\"accuracy\"]\n",
    "valid_acc = model.history.history[\"val_accuracy\"]\n",
    "\n",
    "\"\"\"Code Here\n",
    "將 tp/tn 從訓練完的模型中取出\n",
    "\"\"\"\n",
    "valid_tp = model.history.history[\"val_tp\"]\n",
    "valid_tn = model.history.history[\"val_tn\"]"
   ]
  },
  {
   "cell_type": "code",
   "execution_count": 9,
   "metadata": {},
   "outputs": [
    {
     "data": {
      "image/png": "[encoded data removed]",
      "text/plain": [
       "<Figure size 432x288 with 1 Axes>"
      ]
     },
     "metadata": {
      "needs_background": "light"
     },
     "output_type": "display_data"
    },
    {
     "data": {
      "image/png": "[encoded data removed]",
      "text/plain": [
       "<Figure size 432x288 with 1 Axes>"
      ]
     },
     "metadata": {
      "needs_background": "light"
     },
     "output_type": "display_data"
    },
    {
     "data": {
      "image/png": "[encoded data removed]",
      "text/plain": [
       "<Figure size 432x288 with 1 Axes>"
      ]
     },
     "metadata": {
      "needs_background": "light"
     },
     "output_type": "display_data"
    }
   ],
   "source": [
    "import matplotlib.pyplot as plt\n",
    "%matplotlib inline\n",
    "\n",
    "plt.plot(range(len(train_loss)), train_loss, label=\"train loss\")\n",
    "plt.plot(range(len(valid_loss)), valid_loss, label=\"valid loss\")\n",
    "plt.legend()\n",
    "plt.title(\"Loss\")\n",
    "plt.show()\n",
    "\n",
    "plt.plot(range(len(train_acc)), train_acc, label=\"train accuracy\")\n",
    "plt.plot(range(len(valid_acc)), valid_acc, label=\"valid accuracy\")\n",
    "plt.legend()\n",
    "plt.title(\"Accuracy\")\n",
    "plt.show()\n",
    "\n",
    "plt.plot(range(len(valid_tp)), valid_tp, label=\"valid tp\", color=\"navy\")\n",
    "plt.plot(range(len(valid_tn)), valid_tn, label=\"valid tn\", color=\"red\")\n",
    "plt.legend()\n",
    "plt.title(\"True positives and True Negatives\")\n",
    "plt.show()\n"
   ]
  },
  {
   "cell_type": "code",
   "execution_count": null,
   "metadata": {},
   "outputs": [],
   "source": []
  }
 ],
 "metadata": {
  "kernelspec": {
   "display_name": "Python 3",
   "language": "python",
   "name": "python3"
  },
  "language_info": {
   "codemirror_mode": {
    "name": "ipython",
    "version": 3
   },
   "file_extension": ".py",
   "mimetype": "text/x-python",
   "name": "python",
   "nbconvert_exporter": "python",
   "pygments_lexer": "ipython3",
   "version": "3.7.3"
  }
 },
 "nbformat": 4,
 "nbformat_minor": 2
}
