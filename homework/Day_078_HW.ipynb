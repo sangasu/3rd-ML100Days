{
 "cells": [
  {
   "cell_type": "markdown",
   "metadata": {},
   "source": [
    "## Work\n",
    "1. 請嘗試將 preproc_x 替換成以每筆資料的 min/max 進行標準化至 -1 ~ 1 間，再進行訓練\n",
    "2. 請嘗試將 mlp 疊更深 (e.g 5~10 層)，進行訓練後觀察 learning curve 的走勢\n",
    "3. (optional) 請改用 GPU 進行訓練 (如果你有 GPU 的話)，比較使用 CPU 與 GPU 的訓練速度"
   ]
  },
  {
   "cell_type": "code",
   "execution_count": 1,
   "metadata": {},
   "outputs": [],
   "source": [
    "## \n",
    "\"\"\"\n",
    "Your code here (optional)\n",
    "確認硬體資源\n",
    "\"\"\"\n"
   ]
  },
  {
   "cell_type": "code",
   "execution_count": 1,
   "metadata": {},
   "outputs": [
    {
     "name": "stderr",
     "output_type": "stream",
     "text": [
      "Using TensorFlow backend.\n"
     ]
    }
   ],
   "source": [
    "import os\n",
    "import keras\n",
    "\n",
    "# 請嘗試設定 GPU：os.environ\n"
   ]
  },
  {
   "cell_type": "code",
   "execution_count": 2,
   "metadata": {},
   "outputs": [],
   "source": [
    "train, test = keras.datasets.cifar10.load_data()"
   ]
  },
  {
   "cell_type": "code",
   "execution_count": 3,
   "metadata": {},
   "outputs": [],
   "source": [
    "## 資料前處理\n",
    "\"\"\"\n",
    "Your code here\n",
    "\"\"\"\n",
    "def preproc_x(x, flatten=True):\n",
    "    x = 2*(((x - x.min()) / (x.max() - x.min()))-0.5)\n",
    "    if flatten:\n",
    "        x = x.reshape((len(x), -1))\n",
    "    return x\n",
    "\n",
    "def preproc_y(y, num_classes=10):\n",
    "    if y.shape[-1] == 1:\n",
    "        y = keras.utils.to_categorical(y, num_classes)\n",
    "    return y   "
   ]
  },
  {
   "cell_type": "code",
   "execution_count": 4,
   "metadata": {},
   "outputs": [],
   "source": [
    "x_train, y_train = train\n",
    "x_test, y_test = test\n",
    "\n",
    "# Preproc the inputs\n",
    "x_train = preproc_x(x_train)\n",
    "x_test = preproc_x(x_test)\n",
    "\n",
    "# Preprc the outputs\n",
    "y_train = preproc_y(y_train)\n",
    "y_test = preproc_y(y_test)"
   ]
  },
  {
   "cell_type": "code",
   "execution_count": 7,
   "metadata": {},
   "outputs": [
    {
     "name": "stdout",
     "output_type": "stream",
     "text": [
      "Model: \"model_1\"\n",
      "_________________________________________________________________\n",
      "Layer (type)                 Output Shape              Param #   \n",
      "=================================================================\n",
      "input_1 (InputLayer)         (None, 3072)              0         \n",
      "_________________________________________________________________\n",
      "hidden_layer1 (Dense)        (None, 512)               1573376   \n",
      "_________________________________________________________________\n",
      "hidden_layer2 (Dense)        (None, 256)               131328    \n",
      "_________________________________________________________________\n",
      "hidden_layer3 (Dense)        (None, 128)               32896     \n",
      "_________________________________________________________________\n",
      "hidden_layer4 (Dense)        (None, 128)               16512     \n",
      "_________________________________________________________________\n",
      "hidden_layer5 (Dense)        (None, 128)               16512     \n",
      "_________________________________________________________________\n",
      "output (Dense)               (None, 10)                1290      \n",
      "=================================================================\n",
      "Total params: 1,771,914\n",
      "Trainable params: 1,771,914\n",
      "Non-trainable params: 0\n",
      "_________________________________________________________________\n"
     ]
    }
   ],
   "source": [
    "\"\"\"Code Here\n",
    "建立你的神經網路\n",
    "\"\"\"\n",
    "def build_mlp(input_shape, output_units=10, num_neurons=[512, 256, 128, 128, 128]):\n",
    "    input_layer = keras.layers.Input(input_shape)\n",
    "    \n",
    "    for i, n_units in enumerate(num_neurons):\n",
    "        if i == 0:\n",
    "            x = keras.layers.Dense(units=n_units, activation=\"relu\", name=\"hidden_layer\"+str(i+1))(input_layer)\n",
    "        else:\n",
    "            x = keras.layers.Dense(units=n_units, activation=\"relu\", name=\"hidden_layer\"+str(i+1))(x)\n",
    "    \n",
    "    out = keras.layers.Dense(units=output_units, activation=\"softmax\", name=\"output\")(x)\n",
    "    \n",
    "    model = keras.models.Model(inputs=[input_layer], outputs=[out])\n",
    "    return model\n",
    "model = build_mlp(input_shape=x_train.shape[1:])\n",
    "model.summary()"
   ]
  },
  {
   "cell_type": "code",
   "execution_count": 8,
   "metadata": {},
   "outputs": [],
   "source": [
    "## 超參數設定\n",
    "LEARNING_RATE = 0.001\n",
    "EPOCHS = 100\n",
    "BATCH_SIZE = 256"
   ]
  },
  {
   "cell_type": "code",
   "execution_count": 9,
   "metadata": {},
   "outputs": [],
   "source": [
    "optimizer = keras.optimizers.Adam(lr=LEARNING_RATE)\n",
    "model.compile(loss=\"categorical_crossentropy\", metrics=[\"accuracy\"], optimizer=optimizer)"
   ]
  },
  {
   "cell_type": "code",
   "execution_count": 10,
   "metadata": {},
   "outputs": [
    {
     "name": "stdout",
     "output_type": "stream",
     "text": [
      "Train on 50000 samples, validate on 10000 samples\n",
      "Epoch 1/100\n",
      "50000/50000 [==============================] - 3s 64us/step - loss: 1.6885 - accuracy: 0.3985 - val_loss: 1.5518 - val_accuracy: 0.4506\n",
      "Epoch 2/100\n",
      "50000/50000 [==============================] - 3s 55us/step - loss: 1.4647 - accuracy: 0.4825 - val_loss: 1.4375 - val_accuracy: 0.4947\n",
      "Epoch 3/100\n",
      "50000/50000 [==============================] - 3s 55us/step - loss: 1.3481 - accuracy: 0.5242 - val_loss: 1.3909 - val_accuracy: 0.5094\n",
      "Epoch 4/100\n",
      "50000/50000 [==============================] - 3s 55us/step - loss: 1.2592 - accuracy: 0.5558 - val_loss: 1.3963 - val_accuracy: 0.5097\n",
      "Epoch 5/100\n",
      "50000/50000 [==============================] - 3s 56us/step - loss: 1.1775 - accuracy: 0.5850 - val_loss: 1.3568 - val_accuracy: 0.5215\n",
      "Epoch 6/100\n",
      "50000/50000 [==============================] - 3s 56us/step - loss: 1.1009 - accuracy: 0.6094 - val_loss: 1.3513 - val_accuracy: 0.5337\n",
      "Epoch 7/100\n",
      "50000/50000 [==============================] - 3s 55us/step - loss: 1.0203 - accuracy: 0.6387 - val_loss: 1.3685 - val_accuracy: 0.5305\n",
      "Epoch 8/100\n",
      "50000/50000 [==============================] - 3s 55us/step - loss: 0.9536 - accuracy: 0.6637 - val_loss: 1.3734 - val_accuracy: 0.5377\n",
      "Epoch 9/100\n",
      "50000/50000 [==============================] - 3s 55us/step - loss: 0.8804 - accuracy: 0.6860 - val_loss: 1.4193 - val_accuracy: 0.5344\n",
      "Epoch 10/100\n",
      "50000/50000 [==============================] - 3s 57us/step - loss: 0.8085 - accuracy: 0.7135 - val_loss: 1.4625 - val_accuracy: 0.5318\n",
      "Epoch 11/100\n",
      "50000/50000 [==============================] - 3s 56us/step - loss: 0.7497 - accuracy: 0.7325 - val_loss: 1.5319 - val_accuracy: 0.5315\n",
      "Epoch 12/100\n",
      "50000/50000 [==============================] - 3s 57us/step - loss: 0.6869 - accuracy: 0.7559 - val_loss: 1.5491 - val_accuracy: 0.5391\n",
      "Epoch 13/100\n",
      "50000/50000 [==============================] - 3s 55us/step - loss: 0.6331 - accuracy: 0.7761 - val_loss: 1.6428 - val_accuracy: 0.5294\n",
      "Epoch 14/100\n",
      "50000/50000 [==============================] - 3s 56us/step - loss: 0.5780 - accuracy: 0.7946 - val_loss: 1.7454 - val_accuracy: 0.5277\n",
      "Epoch 15/100\n",
      "50000/50000 [==============================] - 3s 56us/step - loss: 0.5388 - accuracy: 0.8097 - val_loss: 1.8212 - val_accuracy: 0.5362\n",
      "Epoch 16/100\n",
      "50000/50000 [==============================] - 3s 56us/step - loss: 0.4828 - accuracy: 0.8293 - val_loss: 1.9852 - val_accuracy: 0.5354\n",
      "Epoch 17/100\n",
      "50000/50000 [==============================] - 3s 56us/step - loss: 0.4608 - accuracy: 0.8367 - val_loss: 2.0210 - val_accuracy: 0.5252\n",
      "Epoch 18/100\n",
      "50000/50000 [==============================] - 3s 56us/step - loss: 0.4143 - accuracy: 0.8524 - val_loss: 2.1286 - val_accuracy: 0.5294\n",
      "Epoch 19/100\n",
      "50000/50000 [==============================] - 3s 56us/step - loss: 0.3899 - accuracy: 0.8615 - val_loss: 2.2177 - val_accuracy: 0.5293\n",
      "Epoch 20/100\n",
      "50000/50000 [==============================] - 3s 56us/step - loss: 0.3451 - accuracy: 0.8771 - val_loss: 2.3440 - val_accuracy: 0.5319\n",
      "Epoch 21/100\n",
      "50000/50000 [==============================] - 3s 56us/step - loss: 0.3342 - accuracy: 0.8820 - val_loss: 2.4151 - val_accuracy: 0.5268\n",
      "Epoch 22/100\n",
      "50000/50000 [==============================] - 3s 55us/step - loss: 0.3099 - accuracy: 0.8920 - val_loss: 2.4044 - val_accuracy: 0.5351\n",
      "Epoch 23/100\n",
      "50000/50000 [==============================] - 3s 56us/step - loss: 0.2870 - accuracy: 0.8995 - val_loss: 2.4437 - val_accuracy: 0.5314\n",
      "Epoch 24/100\n",
      "50000/50000 [==============================] - 3s 55us/step - loss: 0.2712 - accuracy: 0.9051 - val_loss: 2.6858 - val_accuracy: 0.5186\n",
      "Epoch 25/100\n",
      "50000/50000 [==============================] - 3s 55us/step - loss: 0.2663 - accuracy: 0.9062 - val_loss: 2.5565 - val_accuracy: 0.5305\n",
      "Epoch 26/100\n",
      "50000/50000 [==============================] - 3s 56us/step - loss: 0.2647 - accuracy: 0.9081 - val_loss: 2.8530 - val_accuracy: 0.5295\n",
      "Epoch 27/100\n",
      "50000/50000 [==============================] - 3s 55us/step - loss: 0.2400 - accuracy: 0.9162 - val_loss: 2.6934 - val_accuracy: 0.5369\n",
      "Epoch 28/100\n",
      "50000/50000 [==============================] - 3s 56us/step - loss: 0.1980 - accuracy: 0.9307 - val_loss: 2.8817 - val_accuracy: 0.5377\n",
      "Epoch 29/100\n",
      "50000/50000 [==============================] - 3s 57us/step - loss: 0.2214 - accuracy: 0.9228 - val_loss: 2.8779 - val_accuracy: 0.5309\n",
      "Epoch 30/100\n",
      "50000/50000 [==============================] - 3s 58us/step - loss: 0.2112 - accuracy: 0.9265 - val_loss: 2.9899 - val_accuracy: 0.5232\n",
      "Epoch 31/100\n",
      "50000/50000 [==============================] - 3s 57us/step - loss: 0.2006 - accuracy: 0.9303 - val_loss: 3.0291 - val_accuracy: 0.5331\n",
      "Epoch 32/100\n",
      "50000/50000 [==============================] - 3s 62us/step - loss: 0.1857 - accuracy: 0.9351 - val_loss: 3.0942 - val_accuracy: 0.5313\n",
      "Epoch 33/100\n",
      "50000/50000 [==============================] - 3s 57us/step - loss: 0.1683 - accuracy: 0.9417 - val_loss: 3.1130 - val_accuracy: 0.5208\n",
      "Epoch 34/100\n",
      "50000/50000 [==============================] - 3s 56us/step - loss: 0.1921 - accuracy: 0.9340 - val_loss: 3.1957 - val_accuracy: 0.5247\n",
      "Epoch 35/100\n",
      "50000/50000 [==============================] - 3s 59us/step - loss: 0.1808 - accuracy: 0.9381 - val_loss: 3.1216 - val_accuracy: 0.5306\n",
      "Epoch 36/100\n",
      "50000/50000 [==============================] - 3s 60us/step - loss: 0.1668 - accuracy: 0.9419 - val_loss: 3.3445 - val_accuracy: 0.5298\n",
      "Epoch 37/100\n",
      "50000/50000 [==============================] - 3s 57us/step - loss: 0.1631 - accuracy: 0.9449 - val_loss: 3.3106 - val_accuracy: 0.5335\n",
      "Epoch 38/100\n",
      "50000/50000 [==============================] - 3s 57us/step - loss: 0.1458 - accuracy: 0.9497 - val_loss: 3.3671 - val_accuracy: 0.5324\n",
      "Epoch 39/100\n",
      "50000/50000 [==============================] - 3s 56us/step - loss: 0.1548 - accuracy: 0.9472 - val_loss: 3.2738 - val_accuracy: 0.5341\n",
      "Epoch 40/100\n",
      "50000/50000 [==============================] - 3s 55us/step - loss: 0.1554 - accuracy: 0.9472 - val_loss: 3.3915 - val_accuracy: 0.5294\n",
      "Epoch 41/100\n",
      "50000/50000 [==============================] - 3s 55us/step - loss: 0.1539 - accuracy: 0.9485 - val_loss: 3.5607 - val_accuracy: 0.5355\n",
      "Epoch 42/100\n",
      "50000/50000 [==============================] - 3s 56us/step - loss: 0.1112 - accuracy: 0.9623 - val_loss: 3.6059 - val_accuracy: 0.5228\n",
      "Epoch 43/100\n",
      "50000/50000 [==============================] - 3s 56us/step - loss: 0.1399 - accuracy: 0.9530 - val_loss: 3.4632 - val_accuracy: 0.5223\n",
      "Epoch 44/100\n",
      "50000/50000 [==============================] - 3s 57us/step - loss: 0.1456 - accuracy: 0.9513 - val_loss: 3.4958 - val_accuracy: 0.5384\n",
      "Epoch 45/100\n",
      "50000/50000 [==============================] - 3s 55us/step - loss: 0.1476 - accuracy: 0.9499 - val_loss: 3.3806 - val_accuracy: 0.5374\n",
      "Epoch 46/100\n",
      "50000/50000 [==============================] - 3s 56us/step - loss: 0.1246 - accuracy: 0.9565 - val_loss: 3.6409 - val_accuracy: 0.5296\n",
      "Epoch 47/100\n",
      "50000/50000 [==============================] - 3s 56us/step - loss: 0.1423 - accuracy: 0.9525 - val_loss: 3.6555 - val_accuracy: 0.5352\n",
      "Epoch 48/100\n",
      "50000/50000 [==============================] - 3s 55us/step - loss: 0.1181 - accuracy: 0.9601 - val_loss: 3.9370 - val_accuracy: 0.5316\n",
      "Epoch 49/100\n",
      "50000/50000 [==============================] - 3s 57us/step - loss: 0.1372 - accuracy: 0.9546 - val_loss: 3.6135 - val_accuracy: 0.5345\n",
      "Epoch 50/100\n",
      "50000/50000 [==============================] - 3s 56us/step - loss: 0.1173 - accuracy: 0.9610 - val_loss: 3.6062 - val_accuracy: 0.5291\n",
      "Epoch 51/100\n",
      "50000/50000 [==============================] - 3s 57us/step - loss: 0.1031 - accuracy: 0.9643 - val_loss: 3.7652 - val_accuracy: 0.5410\n",
      "Epoch 52/100\n",
      "50000/50000 [==============================] - 3s 60us/step - loss: 0.1050 - accuracy: 0.9645 - val_loss: 3.8139 - val_accuracy: 0.5264\n",
      "Epoch 53/100\n",
      "50000/50000 [==============================] - 3s 60us/step - loss: 0.1359 - accuracy: 0.9552 - val_loss: 3.7997 - val_accuracy: 0.5285\n",
      "Epoch 54/100\n",
      "50000/50000 [==============================] - 3s 57us/step - loss: 0.1182 - accuracy: 0.9595 - val_loss: 3.7493 - val_accuracy: 0.5325\n",
      "Epoch 55/100\n",
      "50000/50000 [==============================] - 3s 57us/step - loss: 0.1181 - accuracy: 0.9605 - val_loss: 3.8114 - val_accuracy: 0.5333\n"
     ]
    },
    {
     "name": "stdout",
     "output_type": "stream",
     "text": [
      "Epoch 56/100\n",
      "50000/50000 [==============================] - 3s 55us/step - loss: 0.1060 - accuracy: 0.9648 - val_loss: 3.7187 - val_accuracy: 0.5356\n",
      "Epoch 57/100\n",
      "50000/50000 [==============================] - 3s 56us/step - loss: 0.1018 - accuracy: 0.9660 - val_loss: 3.9813 - val_accuracy: 0.5339\n",
      "Epoch 58/100\n",
      "50000/50000 [==============================] - 3s 56us/step - loss: 0.0970 - accuracy: 0.9672 - val_loss: 4.0241 - val_accuracy: 0.5295\n",
      "Epoch 59/100\n",
      "50000/50000 [==============================] - 3s 56us/step - loss: 0.1025 - accuracy: 0.9666 - val_loss: 3.8010 - val_accuracy: 0.5322\n",
      "Epoch 60/100\n",
      "50000/50000 [==============================] - 3s 57us/step - loss: 0.1071 - accuracy: 0.9653 - val_loss: 3.8799 - val_accuracy: 0.5295\n",
      "Epoch 61/100\n",
      "50000/50000 [==============================] - 3s 56us/step - loss: 0.0978 - accuracy: 0.9676 - val_loss: 3.9871 - val_accuracy: 0.5263\n",
      "Epoch 62/100\n",
      "50000/50000 [==============================] - 3s 57us/step - loss: 0.0999 - accuracy: 0.9664 - val_loss: 3.8474 - val_accuracy: 0.5341\n",
      "Epoch 63/100\n",
      "50000/50000 [==============================] - 3s 63us/step - loss: 0.1024 - accuracy: 0.9666 - val_loss: 3.9478 - val_accuracy: 0.5222\n",
      "Epoch 64/100\n",
      "50000/50000 [==============================] - 3s 56us/step - loss: 0.0887 - accuracy: 0.9701 - val_loss: 4.3453 - val_accuracy: 0.5153\n",
      "Epoch 65/100\n",
      "50000/50000 [==============================] - 3s 57us/step - loss: 0.1155 - accuracy: 0.9624 - val_loss: 3.8490 - val_accuracy: 0.5288\n",
      "Epoch 66/100\n",
      "50000/50000 [==============================] - 3s 56us/step - loss: 0.0991 - accuracy: 0.9676 - val_loss: 4.2333 - val_accuracy: 0.5180\n",
      "Epoch 67/100\n",
      "50000/50000 [==============================] - 3s 62us/step - loss: 0.0969 - accuracy: 0.9680 - val_loss: 4.0745 - val_accuracy: 0.5321\n",
      "Epoch 68/100\n",
      "50000/50000 [==============================] - 3s 56us/step - loss: 0.0903 - accuracy: 0.9711 - val_loss: 4.2587 - val_accuracy: 0.5306\n",
      "Epoch 69/100\n",
      "50000/50000 [==============================] - 3s 56us/step - loss: 0.0853 - accuracy: 0.9721 - val_loss: 4.2758 - val_accuracy: 0.5294\n",
      "Epoch 70/100\n",
      "50000/50000 [==============================] - 3s 57us/step - loss: 0.1046 - accuracy: 0.9655 - val_loss: 3.9909 - val_accuracy: 0.5320\n",
      "Epoch 71/100\n",
      "50000/50000 [==============================] - 3s 57us/step - loss: 0.0870 - accuracy: 0.9707 - val_loss: 4.2214 - val_accuracy: 0.5333\n",
      "Epoch 72/100\n",
      "50000/50000 [==============================] - 3s 56us/step - loss: 0.0895 - accuracy: 0.9705 - val_loss: 4.1179 - val_accuracy: 0.5332\n",
      "Epoch 73/100\n",
      "50000/50000 [==============================] - 3s 56us/step - loss: 0.0983 - accuracy: 0.9677 - val_loss: 3.9534 - val_accuracy: 0.5323\n",
      "Epoch 74/100\n",
      "50000/50000 [==============================] - 3s 56us/step - loss: 0.0930 - accuracy: 0.9700 - val_loss: 3.9473 - val_accuracy: 0.5258\n",
      "Epoch 75/100\n",
      "50000/50000 [==============================] - 3s 55us/step - loss: 0.0854 - accuracy: 0.9713 - val_loss: 4.0202 - val_accuracy: 0.5289\n",
      "Epoch 76/100\n",
      "50000/50000 [==============================] - 3s 56us/step - loss: 0.0755 - accuracy: 0.9753 - val_loss: 4.2027 - val_accuracy: 0.5337\n",
      "Epoch 77/100\n",
      "50000/50000 [==============================] - 3s 55us/step - loss: 0.0731 - accuracy: 0.9767 - val_loss: 4.2895 - val_accuracy: 0.5174\n",
      "Epoch 78/100\n",
      "50000/50000 [==============================] - 3s 56us/step - loss: 0.0824 - accuracy: 0.9735 - val_loss: 4.2938 - val_accuracy: 0.5316\n",
      "Epoch 79/100\n",
      "50000/50000 [==============================] - 3s 55us/step - loss: 0.0991 - accuracy: 0.9688 - val_loss: 3.9148 - val_accuracy: 0.5265\n",
      "Epoch 80/100\n",
      "50000/50000 [==============================] - 3s 55us/step - loss: 0.0825 - accuracy: 0.9739 - val_loss: 4.1669 - val_accuracy: 0.5238\n",
      "Epoch 81/100\n",
      "50000/50000 [==============================] - 3s 55us/step - loss: 0.0755 - accuracy: 0.9756 - val_loss: 4.1728 - val_accuracy: 0.5257\n",
      "Epoch 82/100\n",
      "50000/50000 [==============================] - 3s 56us/step - loss: 0.0705 - accuracy: 0.9774 - val_loss: 4.4709 - val_accuracy: 0.5282\n",
      "Epoch 83/100\n",
      "50000/50000 [==============================] - 3s 55us/step - loss: 0.0915 - accuracy: 0.9702 - val_loss: 4.1868 - val_accuracy: 0.5336\n",
      "Epoch 84/100\n",
      "50000/50000 [==============================] - 3s 55us/step - loss: 0.0687 - accuracy: 0.9773 - val_loss: 4.1435 - val_accuracy: 0.5272\n",
      "Epoch 85/100\n",
      "50000/50000 [==============================] - 3s 55us/step - loss: 0.0724 - accuracy: 0.9766 - val_loss: 4.3176 - val_accuracy: 0.5277\n",
      "Epoch 86/100\n",
      "50000/50000 [==============================] - 3s 55us/step - loss: 0.0625 - accuracy: 0.9791 - val_loss: 4.4397 - val_accuracy: 0.5340\n",
      "Epoch 87/100\n",
      "50000/50000 [==============================] - 3s 55us/step - loss: 0.0826 - accuracy: 0.9737 - val_loss: 4.1617 - val_accuracy: 0.5287\n",
      "Epoch 88/100\n",
      "50000/50000 [==============================] - 3s 55us/step - loss: 0.0844 - accuracy: 0.9725 - val_loss: 4.4193 - val_accuracy: 0.5272\n",
      "Epoch 89/100\n",
      "50000/50000 [==============================] - 3s 55us/step - loss: 0.0674 - accuracy: 0.9782 - val_loss: 4.4445 - val_accuracy: 0.5244\n",
      "Epoch 90/100\n",
      "50000/50000 [==============================] - 3s 55us/step - loss: 0.0805 - accuracy: 0.9741 - val_loss: 4.4308 - val_accuracy: 0.5307\n",
      "Epoch 91/100\n",
      "50000/50000 [==============================] - 3s 55us/step - loss: 0.0786 - accuracy: 0.9757 - val_loss: 4.0662 - val_accuracy: 0.5278\n",
      "Epoch 92/100\n",
      "50000/50000 [==============================] - 3s 55us/step - loss: 0.0830 - accuracy: 0.9737 - val_loss: 4.1701 - val_accuracy: 0.5301\n",
      "Epoch 93/100\n",
      "50000/50000 [==============================] - 3s 57us/step - loss: 0.0697 - accuracy: 0.9782 - val_loss: 4.4183 - val_accuracy: 0.5328\n",
      "Epoch 94/100\n",
      "50000/50000 [==============================] - 3s 55us/step - loss: 0.0591 - accuracy: 0.9803 - val_loss: 4.5184 - val_accuracy: 0.5245\n",
      "Epoch 95/100\n",
      "50000/50000 [==============================] - 3s 55us/step - loss: 0.0742 - accuracy: 0.9763 - val_loss: 4.4588 - val_accuracy: 0.5353\n",
      "Epoch 96/100\n",
      "50000/50000 [==============================] - 3s 55us/step - loss: 0.0747 - accuracy: 0.9766 - val_loss: 4.3386 - val_accuracy: 0.5330\n",
      "Epoch 97/100\n",
      "50000/50000 [==============================] - 3s 56us/step - loss: 0.0647 - accuracy: 0.9798 - val_loss: 4.4487 - val_accuracy: 0.5347\n",
      "Epoch 98/100\n",
      "50000/50000 [==============================] - 3s 55us/step - loss: 0.0802 - accuracy: 0.9746 - val_loss: 4.3234 - val_accuracy: 0.5285\n",
      "Epoch 99/100\n",
      "50000/50000 [==============================] - 3s 55us/step - loss: 0.0707 - accuracy: 0.9776 - val_loss: 4.3578 - val_accuracy: 0.5294\n",
      "Epoch 100/100\n",
      "50000/50000 [==============================] - 3s 56us/step - loss: 0.0613 - accuracy: 0.9811 - val_loss: 4.3008 - val_accuracy: 0.5377\n"
     ]
    },
    {
     "data": {
      "text/plain": [
       "<keras.callbacks.callbacks.History at 0x53e71080>"
      ]
     },
     "execution_count": 10,
     "metadata": {},
     "output_type": "execute_result"
    }
   ],
   "source": [
    "model.fit(x_train, y_train, \n",
    "          epochs=EPOCHS, \n",
    "          batch_size=BATCH_SIZE, \n",
    "          validation_data=(x_test, y_test), \n",
    "          shuffle=True)"
   ]
  },
  {
   "cell_type": "code",
   "execution_count": 12,
   "metadata": {},
   "outputs": [
    {
     "data": {
      "image/png": "[encoded data removed]",
      "text/plain": [
       "<Figure size 432x288 with 1 Axes>"
      ]
     },
     "metadata": {
      "needs_background": "light"
     },
     "output_type": "display_data"
    },
    {
     "data": {
      "image/png": "[encoded data removed]",
      "text/plain": [
       "<Figure size 432x288 with 1 Axes>"
      ]
     },
     "metadata": {
      "needs_background": "light"
     },
     "output_type": "display_data"
    }
   ],
   "source": [
    "import matplotlib.pyplot as plt\n",
    "\n",
    "\n",
    "train_loss = model.history.history[\"loss\"]\n",
    "valid_loss = model.history.history[\"val_loss\"]\n",
    "\n",
    "train_acc = model.history.history[\"accuracy\"]\n",
    "valid_acc = model.history.history[\"val_accuracy\"]\n",
    "\n",
    "plt.plot(range(len(train_loss)), train_loss, label=\"train loss\")\n",
    "plt.plot(range(len(valid_loss)), valid_loss, label=\"valid loss\")\n",
    "plt.legend()\n",
    "plt.title(\"Loss\")\n",
    "plt.show()\n",
    "\n",
    "plt.plot(range(len(train_acc)), train_acc, label=\"train accuracy\")\n",
    "plt.plot(range(len(valid_acc)), valid_acc, label=\"valid accuracy\")\n",
    "plt.legend()\n",
    "plt.title(\"Accuracy\")\n",
    "plt.show()"
   ]
  },
  {
   "cell_type": "code",
   "execution_count": null,
   "metadata": {},
   "outputs": [],
   "source": []
  }
 ],
 "metadata": {
  "kernelspec": {
   "display_name": "Python 3",
   "language": "python",
   "name": "python3"
  },
  "language_info": {
   "codemirror_mode": {
    "name": "ipython",
    "version": 3
   },
   "file_extension": ".py",
   "mimetype": "text/x-python",
   "name": "python",
   "nbconvert_exporter": "python",
   "pygments_lexer": "ipython3",
   "version": "3.7.3"
  }
 },
 "nbformat": 4,
 "nbformat_minor": 2
}
