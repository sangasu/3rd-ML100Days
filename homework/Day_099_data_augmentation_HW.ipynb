{
 "cells": [
  {
   "cell_type": "code",
   "execution_count": 1,
   "metadata": {},
   "outputs": [
    {
     "name": "stderr",
     "output_type": "stream",
     "text": [
      "Using TensorFlow backend.\n"
     ]
    }
   ],
   "source": [
    "import keras\n",
    "from keras.datasets import cifar10\n",
    "from keras.preprocessing.image import ImageDataGenerator\n",
    "from keras.models import Sequential\n",
    "from keras.layers import Dense, Dropout, Activation, Flatten\n",
    "from keras.layers import Conv2D, MaxPooling2D\n",
    "from keras.optimizers import RMSprop, Adam\n",
    "import os"
   ]
  },
  {
   "cell_type": "code",
   "execution_count": 2,
   "metadata": {},
   "outputs": [
    {
     "name": "stdout",
     "output_type": "stream",
     "text": [
      "x_train shape: (50000, 32, 32, 3)\n",
      "50000 train samples\n",
      "10000 test samples\n"
     ]
    }
   ],
   "source": [
    "batch_size = 128 # batch 的大小，如果出現 OOM error，請降低這個值\n",
    "num_classes = 10 # 類別的數量，Cifar 10 共有 10 個類別\n",
    "epochs = 10 # 訓練的 epochs 數量\n",
    "\n",
    "# 讀取資料並檢視\n",
    "(x_train, y_train), (x_test, y_test) = cifar10.load_data()\n",
    "print('x_train shape:', x_train.shape)\n",
    "print(x_train.shape[0], 'train samples')\n",
    "print(x_test.shape[0], 'test samples')\n",
    "x_train = x_train.astype('float32')\n",
    "x_test = x_test.astype('float32')\n",
    "x_train /= 255\n",
    "x_test /= 255\n",
    "\n",
    "# 對 label 進行 one-hot encoding (y_trian 原本是純數字)\n",
    "y_train = keras.utils.to_categorical(y_train, num_classes)\n",
    "y_test = keras.utils.to_categorical(y_test, num_classes)"
   ]
  },
  {
   "cell_type": "code",
   "execution_count": 3,
   "metadata": {
    "scrolled": true
   },
   "outputs": [
    {
     "name": "stdout",
     "output_type": "stream",
     "text": [
      "Model: \"sequential_1\"\n",
      "_________________________________________________________________\n",
      "Layer (type)                 Output Shape              Param #   \n",
      "=================================================================\n",
      "conv2d_1 (Conv2D)            (None, 32, 32, 32)        896       \n",
      "_________________________________________________________________\n",
      "activation_1 (Activation)    (None, 32, 32, 32)        0         \n",
      "_________________________________________________________________\n",
      "conv2d_2 (Conv2D)            (None, 30, 30, 32)        9248      \n",
      "_________________________________________________________________\n",
      "activation_2 (Activation)    (None, 30, 30, 32)        0         \n",
      "_________________________________________________________________\n",
      "max_pooling2d_1 (MaxPooling2 (None, 15, 15, 32)        0         \n",
      "_________________________________________________________________\n",
      "dropout_1 (Dropout)          (None, 15, 15, 32)        0         \n",
      "_________________________________________________________________\n",
      "conv2d_3 (Conv2D)            (None, 15, 15, 64)        18496     \n",
      "_________________________________________________________________\n",
      "activation_3 (Activation)    (None, 15, 15, 64)        0         \n",
      "_________________________________________________________________\n",
      "conv2d_4 (Conv2D)            (None, 13, 13, 64)        36928     \n",
      "_________________________________________________________________\n",
      "activation_4 (Activation)    (None, 13, 13, 64)        0         \n",
      "_________________________________________________________________\n",
      "max_pooling2d_2 (MaxPooling2 (None, 6, 6, 64)          0         \n",
      "_________________________________________________________________\n",
      "dropout_2 (Dropout)          (None, 6, 6, 64)          0         \n",
      "_________________________________________________________________\n",
      "flatten_1 (Flatten)          (None, 2304)              0         \n",
      "_________________________________________________________________\n",
      "dense_1 (Dense)              (None, 512)               1180160   \n",
      "_________________________________________________________________\n",
      "activation_5 (Activation)    (None, 512)               0         \n",
      "_________________________________________________________________\n",
      "dropout_3 (Dropout)          (None, 512)               0         \n",
      "_________________________________________________________________\n",
      "dense_2 (Dense)              (None, 10)                5130      \n",
      "_________________________________________________________________\n",
      "activation_6 (Activation)    (None, 10)                0         \n",
      "=================================================================\n",
      "Total params: 1,250,858\n",
      "Trainable params: 1,250,858\n",
      "Non-trainable params: 0\n",
      "_________________________________________________________________\n",
      "Epoch 1/10\n",
      "390/390 [==============================] - 29s 74ms/step - loss: 1.8855 - accuracy: 0.3084 - val_loss: 1.4431 - val_accuracy: 0.4767\n",
      "Epoch 2/10\n",
      "390/390 [==============================] - 27s 68ms/step - loss: 1.5525 - accuracy: 0.4377 - val_loss: 1.3439 - val_accuracy: 0.5179\n",
      "Epoch 3/10\n",
      "390/390 [==============================] - 26s 68ms/step - loss: 1.4035 - accuracy: 0.4975 - val_loss: 1.2072 - val_accuracy: 0.5601\n",
      "Epoch 4/10\n",
      "390/390 [==============================] - 27s 68ms/step - loss: 1.2921 - accuracy: 0.5384 - val_loss: 1.0707 - val_accuracy: 0.6120\n",
      "Epoch 5/10\n",
      "390/390 [==============================] - 27s 69ms/step - loss: 1.2215 - accuracy: 0.5640 - val_loss: 1.0460 - val_accuracy: 0.6340\n",
      "Epoch 6/10\n",
      "390/390 [==============================] - 28s 72ms/step - loss: 1.1565 - accuracy: 0.5925 - val_loss: 1.1226 - val_accuracy: 0.6166\n",
      "Epoch 7/10\n",
      "390/390 [==============================] - 27s 68ms/step - loss: 1.1090 - accuracy: 0.6080 - val_loss: 0.9378 - val_accuracy: 0.6629\n",
      "Epoch 8/10\n",
      "390/390 [==============================] - 27s 68ms/step - loss: 1.0643 - accuracy: 0.6254 - val_loss: 0.9810 - val_accuracy: 0.6711\n",
      "Epoch 9/10\n",
      "390/390 [==============================] - 27s 69ms/step - loss: 1.0365 - accuracy: 0.6375 - val_loss: 0.8542 - val_accuracy: 0.7070\n",
      "Epoch 10/10\n",
      "390/390 [==============================] - 27s 70ms/step - loss: 1.0037 - accuracy: 0.6490 - val_loss: 0.8915 - val_accuracy: 0.6931\n",
      "Test loss: 0.8914916440010071\n",
      "Test accuracy: 0.6930999755859375\n"
     ]
    }
   ],
   "source": [
    "model = Sequential()\n",
    "model.add(Conv2D(32, (3, 3), padding='same',\n",
    "                 input_shape=x_train.shape[1:]))\n",
    "model.add(Activation('relu'))\n",
    "model.add(Conv2D(32, (3, 3)))\n",
    "model.add(Activation('relu'))\n",
    "model.add(MaxPooling2D(pool_size=(2, 2)))\n",
    "model.add(Dropout(0.25))\n",
    "\n",
    "model.add(Conv2D(64, (3, 3), padding='same'))\n",
    "model.add(Activation('relu'))\n",
    "model.add(Conv2D(64, (3, 3)))\n",
    "model.add(Activation('relu'))\n",
    "model.add(MaxPooling2D(pool_size=(2, 2)))\n",
    "model.add(Dropout(0.25))\n",
    "\n",
    "model.add(Flatten())\n",
    "model.add(Dense(512))\n",
    "model.add(Activation('relu'))\n",
    "model.add(Dropout(0.25))\n",
    "model.add(Dense(num_classes))\n",
    "model.add(Activation('softmax'))\n",
    "model.summary()\n",
    "\n",
    "model.compile(loss='categorical_crossentropy',\n",
    "              optimizer=RMSprop(),\n",
    "              metrics=['accuracy'])\n",
    "\n",
    "aug = ImageDataGenerator(rotation_range=10,\n",
    "    width_shift_range=0.2,\n",
    "    height_shift_range=0.2,\n",
    "    horizontal_flip=True)\n",
    "model.fit_generator(aug.flow(x_train, y_train, batch_size=batch_size),validation_data=(x_test, y_test), steps_per_epoch=len(x_train) // batch_size,\n",
    "epochs=epochs)\n",
    "#history = model.fit(x_train, y_train,\n",
    "#                    batch_size=batch_size,\n",
    "#                    epochs=epochs,\n",
    "#                    verbose=1,\n",
    "#                    validation_data=(x_test, y_test))\n",
    "score = model.evaluate(x_test, y_test, verbose=0)\n",
    "print('Test loss:', score[0])\n",
    "print('Test accuracy:', score[1])"
   ]
  },
  {
   "cell_type": "code",
   "execution_count": 4,
   "metadata": {},
   "outputs": [
    {
     "name": "stdout",
     "output_type": "stream",
     "text": [
      "Epoch 1/10\n",
      "390/390 [==============================] - 28s 71ms/step - loss: 1.0910 - accuracy: 0.6169 - val_loss: 0.8675 - val_accuracy: 0.6999\n",
      "Epoch 2/10\n",
      "390/390 [==============================] - 26s 68ms/step - loss: 1.0698 - accuracy: 0.6258 - val_loss: 0.8804 - val_accuracy: 0.7033\n",
      "Epoch 3/10\n",
      "390/390 [==============================] - 27s 68ms/step - loss: 1.0518 - accuracy: 0.6334 - val_loss: 0.9824 - val_accuracy: 0.6711\n",
      "Epoch 4/10\n",
      "390/390 [==============================] - 26s 68ms/step - loss: 1.0417 - accuracy: 0.6392 - val_loss: 1.0433 - val_accuracy: 0.6635\n",
      "Epoch 5/10\n",
      "390/390 [==============================] - 26s 67ms/step - loss: 1.0291 - accuracy: 0.6437 - val_loss: 0.8700 - val_accuracy: 0.7084\n",
      "Epoch 6/10\n",
      "390/390 [==============================] - 26s 67ms/step - loss: 1.0215 - accuracy: 0.6476 - val_loss: 0.8723 - val_accuracy: 0.7051\n",
      "Epoch 7/10\n",
      "390/390 [==============================] - 26s 67ms/step - loss: 1.0075 - accuracy: 0.6524 - val_loss: 0.8836 - val_accuracy: 0.7156\n",
      "Epoch 8/10\n",
      "390/390 [==============================] - 26s 66ms/step - loss: 1.0029 - accuracy: 0.6544 - val_loss: 0.8994 - val_accuracy: 0.7020\n",
      "Epoch 9/10\n",
      "390/390 [==============================] - 26s 67ms/step - loss: 0.9993 - accuracy: 0.6549 - val_loss: 0.7713 - val_accuracy: 0.7374\n",
      "Epoch 10/10\n",
      "390/390 [==============================] - 27s 68ms/step - loss: 0.9895 - accuracy: 0.6599 - val_loss: 0.9343 - val_accuracy: 0.6896\n",
      "Test loss: 0.9343462164878845\n",
      "Test accuracy: 0.6895999908447266\n"
     ]
    }
   ],
   "source": [
    "#rotation_range改成30\n",
    "aug = ImageDataGenerator(rotation_range=30,\n",
    "    width_shift_range=0.2,\n",
    "    height_shift_range=0.2,\n",
    "    horizontal_flip=True)\n",
    "model.fit_generator(aug.flow(x_train, y_train, batch_size=batch_size),validation_data=(x_test, y_test), steps_per_epoch=len(x_train) // batch_size,\n",
    "epochs=epochs)\n",
    "score = model.evaluate(x_test, y_test, verbose=0)\n",
    "print('Test loss:', score[0])\n",
    "print('Test accuracy:', score[1])"
   ]
  },
  {
   "cell_type": "markdown",
   "metadata": {},
   "source": [
    "> 不同參數調整會影响預測準確度"
   ]
  },
  {
   "cell_type": "code",
   "execution_count": null,
   "metadata": {},
   "outputs": [],
   "source": []
  }
 ],
 "metadata": {
  "kernelspec": {
   "display_name": "Python 3",
   "language": "python",
   "name": "python3"
  },
  "language_info": {
   "codemirror_mode": {
    "name": "ipython",
    "version": 3
   },
   "file_extension": ".py",
   "mimetype": "text/x-python",
   "name": "python",
   "nbconvert_exporter": "python",
   "pygments_lexer": "ipython3",
   "version": "3.7.3"
  }
 },
 "nbformat": 4,
 "nbformat_minor": 2
}
